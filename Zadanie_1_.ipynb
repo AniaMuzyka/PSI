{
  "nbformat": 4,
  "nbformat_minor": 0,
  "metadata": {
    "colab": {
      "provenance": []
    },
    "kernelspec": {
      "name": "python3",
      "display_name": "Python 3"
    },
    "language_info": {
      "name": "python"
    }
  },
  "cells": [
    {
      "cell_type": "code",
      "execution_count": null,
      "metadata": {
        "id": "YnhIijmIXSyX"
      },
      "outputs": [],
      "source": []
    },
    {
      "cell_type": "markdown",
      "source": [
        "Zadanie 1\n",
        "Które z następujących zadań wymagają w Twojej opinii inteligencji od człowieka:\n",
        "Wymagają wszystkie. Niżej niektóre ze składowych inteligencji wymaganych (min.) do danych działań:\n",
        "• wypełnianie deklaracji PIT - rozpoznanie znaków, rozumienie ich; logiczne łączenie różnych informacji.\n",
        "• streszczanie tekstu - rozpoznawanie, rozumienie znaków; pamięć krótkotrwała(?); łączenie różnych wątków(?).\n",
        "• tłumaczenie tekstu - rozpoznawanie znaków/tekstów w danych językach; umiejętniość dekodowania (zamiany symboli); pamięć.\n",
        "• klasyfikacja tekstu do kategorii tematycznych - rozumienie tekstów; umiejętność kategoryzacji (myślenie na schematach/wzorcach).\n",
        "• odpowiadanie na proste pytania zadawane w języku naturalnym (np. polskim) - rozpoznawanie działania: pytanie - odpowiedź; rozumienie danych pytań; pamięć.\n",
        "• układanie rozkładu jazdy transportu miejskiego - rozumienie pojęć związanych z zad. (np. rozkład jazdy); znajomość rozkładów jazdy (pamięć); myślenie logiczne (łączenie punktów zgodnie z danymi wytycznymi).\n",
        "• programowanie (pisanie programów komputerowych) - znajomość i rozumienie języków programowania, koncepcji programowania; myślenie na wzorcach, przyczynowo-skutkowe; pamięć.\n",
        "• „programowanie” kanałów telewizyjnych - jw.\n",
        "• testowanie oprogramowania - jw.; znajomość metajęzyka (?); działanie skierowane na cel.\n",
        "• komponowanie muzyki - znajomość języka zapisu muzyki; pamięć.\n",
        "• rozwiązywanie układów równań - znajomość języka matematyki (na danym poziomie); myślenie przyczynowo-skutkowe; myślenie abstrakcyjne.\n",
        "• symboliczne obliczanie pochodnych funkcji - jw.;\n",
        "• symboliczne całkowanie funkcji - jw.;\n",
        "• kierowanie samochodem - znajomość działania(/skutków działania) (na określonym poziomie) danych części samochodu; łączenie informacji z różnych źródeł percepcji (np. wzrok - czucie).\n",
        "\n",
        "Zadanie 2\n",
        "Które z następujących problemów można uznać za mieszczące się w zakresie sztucznej\n",
        "inteligencji:\n",
        "• streszczanie tekstu\n",
        "• tłumaczenie tekstu\n",
        "• klasyfikacja tekstu do kategorii tematycznych\n",
        "• odpowiadanie na proste pytania zadawane w języku naturalnym\n",
        "• rozwiązywanie układów równań\n",
        "• układanie rozkładu jazdy\n",
        "• rozwiązywanie układów równań liniowych -\n",
        "• symboliczne obliczanie pochodnych,\n",
        "• symboliczne całkowanie,\n",
        "• kierowanie samochodem.\n",
        "Wszystkie, pytaniem byłoby według mnie jak dobrze?/ czy przy danych założeniach jakościowych (spełniając je) (np. przy tłumaczeniu tekstu)?/ czy w danych okolicznościach (w porównaniu z człowiekiem)?\n",
        "\n",
        "Zadanie 3\n",
        "Które z poniższych rodzajów komunikacyjnego zachowania człowieka mogą być\n",
        "obecnie skutecznie imitowane przez sztuczne systemy (odpowiednio oprogramowane\n",
        "maszyny):\n",
        "• rozmowa towarzyska,\n",
        "• dyskusja polityczna,\n",
        "• dyskusja naukowa,\n",
        "• odpowiadanie na pytania klientów w telefonicznej infolinii,\n",
        "• odpowiadanie na pytania klientów w internetowej infolinii.\n",
        "Myślę, że wszystkie. Warto według mnie byłoby (jeśli już jakieś) zadać pytanie o użyteczność, czy adekwatność (w porównaniu z komunikatami człowieka) takich działań.\n",
        "\n",
        "Zadanie 4\n",
        "Do zadań skorzystaj z załączonej listy Chatbotów (Chatterbotów) lub znajdź własne.\n",
        "1. Przeprowadź rozmowę z chatbotem. Spróbuj zdefiniować różnice pomiędzy\n",
        "botem udającym człowieka (przygotowywanym na test Turinga) a botem\n",
        "„asystentem, służącym”. - Według mnie słabo naśladuje \"przeciętnego\" (dorosłego, wzgl. zdrowego) człowieka, jest bardziej irytujący; słabiej posługuje się językiem (składniowo);\n",
        "2. Sprawdź dwa boty z obu z tych rodzajów na występowanie zachowań:\n",
        "a) opowiadanie żartów,\n",
        "b) przytaczanie cytatów z twoich wypowiedzi, lub znanych osób,\n",
        "c) nawiązywanie wypowiedzi do słów kluczowych,\n",
        "d) zadawanie dużej liczby pytań,\n",
        "e) powracanie do początku wypowiedzi, sekwencyjne powtarzanie,\n",
        "f) zadawanie pytań powstających z twoich wypowiedzi,\n",
        "g) odpowiadanie wymijająco, ogólnikowo,\n",
        "h) częsta zmiana tematu rozmowy,\n",
        "i) problemy z utrzymaniem wątków.\n",
        "3. Sporządź raport ze spostrzeżeń.\n",
        "4. Na podstawie powyższych obserwacji, w grupie dwóch osób spróbujcie przewidzieć zachowania dwóch rozmawiających ze sobą chatbotów (przepisując ich\n",
        "wzajemne odpowiedzi).\n",
        "5. Zdenerwuj bota �\n",
        "\n"
      ],
      "metadata": {
        "id": "Qc1sLCH3XYAm"
      }
    }
  ]
}